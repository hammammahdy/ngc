{
  "cells": [
    {
      "cell_type": "code",
      "execution_count": null,
      "metadata": {
        "id": "toVtG4MKA5t5"
      },
      "outputs": [],
      "source": [
        "# Nama : Hammam Mahdy\n",
        "# Batch : 026 RMT\n",
        "# NGC 5\n",
        "# membuat tabel\n",
        "\n",
        "CREATE TABLE Customers(\n",
        "\tcustomer_id serial primary key,\n",
        "\tcustomer_name varchar(50) NOT NULL,\n",
        "\tcity varchar(50) NOT NULL\n",
        "\n",
        ");\n",
        "\n",
        "CREATE TABLE Orders(\n",
        "\torder_id serial primary key,\n",
        "\tcustomer_id serial,\n",
        "\torder_date date,\n",
        "\ttotal_amount decimal,\n",
        "\tFOREIGN KEY (customer_id) REFERENCES customers(customer_id)\n",
        "\n",
        ");\n",
        "\n",
        "\n"
      ]
    },
    {
      "cell_type": "code",
      "execution_count": null,
      "metadata": {
        "id": "wTV631-gBGeY"
      },
      "outputs": [],
      "source": [
        "INSERT INTO customers(customer_name, city)\n",
        "values ('John Doe', 'New York'), ('Jane Smith', 'Los Angeles'), ('David Johnson', 'Chicago')\n",
        "\n",
        "\n",
        "INSERT INTO orders(customer_id, order_date, total_amount)\n",
        "values (1, '2022-01-10', 100.00), (1, '2022-02-15', 150.00), (2, '2022-03-20', 200.00), (3, '2022-04-25', 50.00)\n",
        "\n",
        "SELECT * FROM customers\n",
        "\n",
        "SELECT * FROM orders"
      ]
    },
    {
      "cell_type": "code",
      "execution_count": null,
      "metadata": {
        "id": "vsKtJXn2BOTR"
      },
      "outputs": [],
      "source": [
        "SELECT\n",
        "\tc.customer_name,\n",
        "\tCOUNT(o.order_id) AS total_order\n",
        "FROM\n",
        "\tcustomers c\n",
        "JOIN\n",
        "\torders o ON c.customer_id= o.customer_id\n",
        "GROUP BY\n",
        "\tc.customer_name\n",
        "ORDER BY total_order DESC\n"
      ]
    }
  ],
  "metadata": {
    "colab": {
      "provenance": []
    },
    "kernelspec": {
      "display_name": "Python 3",
      "name": "python3"
    },
    "language_info": {
      "name": "python"
    }
  },
  "nbformat": 4,
  "nbformat_minor": 0
}
